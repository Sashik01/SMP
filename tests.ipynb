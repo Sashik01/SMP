{
 "cells": [
  {
   "cell_type": "code",
   "execution_count": 5,
   "metadata": {},
   "outputs": [],
   "source": [
    "import numpy as np\n",
    "from RIGIIR import Tests"
   ]
  },
  {
   "cell_type": "code",
   "execution_count": 6,
   "metadata": {},
   "outputs": [],
   "source": [
    "sample1 = [34, 29, 22, 29, 31]\n",
    "sample2 = [39, 38, 34, 35, 36]\n",
    "sample3 = [19, 20, 16, 18, 24]"
   ]
  },
  {
   "cell_type": "code",
   "execution_count": 7,
   "metadata": {},
   "outputs": [
    {
     "name": "stdout",
     "output_type": "stream",
     "text": [
      "Відхиляємо гіпотезу H0. Є статистично значущі різниці між середніми значеннями в різних групах.\n",
      "statistic = 36.21523517382413, pvalue = 3.805565252978057\n"
     ]
    }
   ],
   "source": [
    "k = np.array([sample1, sample2, sample3])\n",
    "b = Tests.ANOVA(k, 0.05).result()"
   ]
  },
  {
   "cell_type": "code",
   "execution_count": 8,
   "metadata": {},
   "outputs": [
    {
     "name": "stdout",
     "output_type": "stream",
     "text": [
      "Є статистично значущі різниці між медіанами хоча б двох груп.\n",
      "statistic = 11781.12, pvalue = 0.0\n"
     ]
    }
   ],
   "source": [
    "c = Tests.HTest(k, 0.05).result()"
   ]
  },
  {
   "cell_type": "code",
   "execution_count": null,
   "metadata": {},
   "outputs": [],
   "source": []
  }
 ],
 "metadata": {
  "kernelspec": {
   "display_name": "Python 3",
   "language": "python",
   "name": "python3"
  },
  "language_info": {
   "codemirror_mode": {
    "name": "ipython",
    "version": 3
   },
   "file_extension": ".py",
   "mimetype": "text/x-python",
   "name": "python",
   "nbconvert_exporter": "python",
   "pygments_lexer": "ipython3",
   "version": "3.10.2"
  }
 },
 "nbformat": 4,
 "nbformat_minor": 2
}
